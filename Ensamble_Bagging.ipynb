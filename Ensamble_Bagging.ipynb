{
 "cells": [
  {
   "cell_type": "code",
   "execution_count": 11,
   "id": "decimal-quick",
   "metadata": {},
   "outputs": [],
   "source": [
    "#%matplotlib inline\n",
    "import numpy as np\n",
    "import pandas as pd\n",
    "import seaborn as sns\n",
    "import matplotlib.pyplot as plt\n",
    "sns.set(style=\"whitegrid\")\n",
    "from sklearn.model_selection import cross_val_score\n",
    "import xgboost as xgb\n",
    "from sklearn.metrics import log_loss \n",
    "from sklearn.model_selection import train_test_split\n",
    "from sklearn.utils import shuffle\n",
    "from sklearn.model_selection import cross_val_score\n",
    "import lightgbm as lgb\n",
    "from lightgbm import LGBMClassifier\n",
    "from sklearn.metrics import accuracy_score\n",
    "from xgboost import XGBClassifier\n",
    "from sklearn.model_selection import train_test_split\n",
    "from sklearn.model_selection import RandomizedSearchCV,GridSearchCV\n",
    "from sklearn.ensemble import BaggingClassifier\n",
    "import warnings\n",
    "warnings.simplefilter(action='ignore')"
   ]
  },
  {
   "cell_type": "code",
   "execution_count": 2,
   "id": "favorite-ladder",
   "metadata": {},
   "outputs": [],
   "source": [
    "test = pd.read_csv('test_label_enc.csv')\n",
    "train = pd.read_csv('train_label_enc.csv')"
   ]
  },
  {
   "cell_type": "code",
   "execution_count": 3,
   "id": "vanilla-lying",
   "metadata": {},
   "outputs": [],
   "source": [
    "# Aca saco las columnas que no quiero que las tome mi algoritmo.\n",
    "features = list(set(train.columns) - set(['ID','Stage','Sales_Contract_No','contrato','Opportunity_ID','Opportunity_Created_Date','Account_Created_Date','Opportunity_Name',\\\n",
    "                                        'Price', 'Currency', 'ASP', 'ASP_converted_Currency', 'ASP_(converted)',\\\n",
    "                                        'Planned_Delivery_Start_Date','Size', 'Planned_Delivery_End_Date', 'Month',\\\n",
    "                                         'Delivery_Year', 'Actual_Delivery_Date','Product_Type','Product_Category_B',\\\n",
    "                                        'Total_Amount_Currency', 'Total_Amount','Last_Activity',\\\n",
    "                                        'Quote_Expiry_Date', 'Last_Modified_Date',\\\n",
    "                                        'Total_Taxable_Amount_Currency', 'Total_Taxable_Amount','Account_Created_Date'\\\n",
    "                                          ,'Total_moneda_local','ASP_Currency','Last_Modified_By','Brand','Bureaucratic_Code',\\\n",
    "                                         'tiempo_creacion_ulti_mod','ASP_converted','Product_Name','Opportunity_Owner',\\\n",
    "                                          'Account_Owner','Product_Family','Account_Name']))\n",
    "#features"
   ]
  },
  {
   "cell_type": "code",
   "execution_count": 4,
   "id": "focused-worse",
   "metadata": {},
   "outputs": [],
   "source": [
    "train_pos= train.loc[train['Stage']==1,:].sample(7315)\n",
    "train_neg = train.loc[train['Stage']==0,:].sample(7315)\n",
    "train=pd.concat([train_pos,train_neg]).drop_duplicates(keep=False)\n",
    "train= shuffle(train)"
   ]
  },
  {
   "cell_type": "code",
   "execution_count": 5,
   "id": "distinct-cleaner",
   "metadata": {},
   "outputs": [],
   "source": [
    "X = train[features]\n",
    "Y = train['Stage']\n",
    "\n",
    "x_train, x_test, y_train, y_test = train_test_split(X, Y, test_size=0.2)"
   ]
  },
  {
   "cell_type": "code",
   "execution_count": 6,
   "id": "rising-perception",
   "metadata": {},
   "outputs": [
    {
     "data": {
      "text/plain": [
       "LGBMClassifier()"
      ]
     },
     "execution_count": 6,
     "metadata": {},
     "output_type": "execute_result"
    }
   ],
   "source": [
    "gbm = LGBMClassifier()\n",
    "gbm.fit(x_train[features], y_train)"
   ]
  },
  {
   "cell_type": "code",
   "execution_count": 7,
   "id": "intensive-checklist",
   "metadata": {},
   "outputs": [],
   "source": [
    "x_test['prediccion']=gbm.predict_proba(x_test[features])[:,1]\n",
    "x_test['real'] = y_test"
   ]
  },
  {
   "cell_type": "code",
   "execution_count": 8,
   "id": "nuclear-integral",
   "metadata": {},
   "outputs": [
    {
     "data": {
      "text/plain": [
       "0.21246503093361635"
      ]
     },
     "execution_count": 8,
     "metadata": {},
     "output_type": "execute_result"
    }
   ],
   "source": [
    "log_loss( x_test['real'].astype('float'),x_test['prediccion'].astype('float'))"
   ]
  },
  {
   "cell_type": "code",
   "execution_count": 80,
   "id": "apparent-pledge",
   "metadata": {},
   "outputs": [],
   "source": [
    "def mi_log_loss(model):\n",
    "    rmse= (-cross_val_score(model, x_train, y_train, scoring= 'neg_log_loss', cv = 3))\n",
    "    return(rmse)"
   ]
  },
  {
   "cell_type": "markdown",
   "id": "distributed-happening",
   "metadata": {},
   "source": [
    "### Ensamble solamente con BaggingClassifier como modelo"
   ]
  },
  {
   "cell_type": "code",
   "execution_count": 447,
   "id": "considered-airline",
   "metadata": {},
   "outputs": [],
   "source": [
    "from sklearn.ensemble import BaggingClassifier\n",
    "n_estimators = [100, 200, 300, 400]\n",
    "cv_rmse_br = [mi_log_loss(BaggingClassifier(n_estimators = n_estimator)).mean() \n",
    "            for n_estimator in n_estimators]"
   ]
  },
  {
   "cell_type": "code",
   "execution_count": 448,
   "id": "original-interpretation",
   "metadata": {},
   "outputs": [
    {
     "name": "stdout",
     "output_type": "stream",
     "text": [
      "[0.4087965475313204, 0.37307931581264797, 0.37404308001634573, 0.37678595717893865]\n"
     ]
    }
   ],
   "source": [
    "print (cv_rmse_br)"
   ]
  },
  {
   "cell_type": "code",
   "execution_count": 449,
   "id": "about-minimum",
   "metadata": {},
   "outputs": [
    {
     "data": {
      "text/plain": [
       "Text(0, 0.5, 'log_loss')"
      ]
     },
     "execution_count": 449,
     "metadata": {},
     "output_type": "execute_result"
    },
    {
     "data": {
      "image/png": "[encoded data removed]",
      "text/plain": [
       "<Figure size 432x288 with 1 Axes>"
      ]
     },
     "metadata": {},
     "output_type": "display_data"
    }
   ],
   "source": [
    "cv_br = pd.Series(cv_rmse_br , index = n_estimators)\n",
    "cv_br.plot(title = \"Validation BaggingClassifier\")\n",
    "plt.xlabel(\"n_estimator\")\n",
    "plt.ylabel(\"log_loss\")"
   ]
  },
  {
   "cell_type": "code",
   "execution_count": 464,
   "id": "federal-piece",
   "metadata": {},
   "outputs": [],
   "source": [
    "clf = BaggingClassifier(n_estimators=200).fit(X, Y)\n",
    "x_test['prediccion']=clf.predict_proba(x_test[features])[:,1]"
   ]
  },
  {
   "cell_type": "code",
   "execution_count": null,
   "id": "verified-finish",
   "metadata": {},
   "outputs": [],
   "source": [
    "log_loss( x_test['real'].astype('float'),x_test['prediccion'].astype('float'))"
   ]
  },
  {
   "cell_type": "code",
   "execution_count": 466,
   "id": "respective-irish",
   "metadata": {},
   "outputs": [],
   "source": [
    "pred = clf.predict_proba(test[features])[:,1]"
   ]
  },
  {
   "cell_type": "code",
   "execution_count": 467,
   "id": "finite-shelf",
   "metadata": {},
   "outputs": [],
   "source": [
    "test['target']=pred"
   ]
  },
  {
   "cell_type": "code",
   "execution_count": 537,
   "id": "approximate-consistency",
   "metadata": {},
   "outputs": [],
   "source": [
    "test[['Opportunity_ID', 'target']].to_csv(\"subidas/Bagging_solo_200_estimadores.csv\", index=False)"
   ]
  },
  {
   "cell_type": "markdown",
   "id": "congressional-nebraska",
   "metadata": {},
   "source": [
    "#### Ensamble Bagging utilizando LGBMClassifier"
   ]
  },
  {
   "cell_type": "code",
   "execution_count": null,
   "id": "trained-missouri",
   "metadata": {},
   "outputs": [],
   "source": [
    "n_estimators = [100, 200, 300, 400]\n",
    "cv_rmse_br = [mi_log_loss(BaggingClassifier(LGBMClassifier(),n_estimators = n_estimator)).mean() \n",
    "            for n_estimator in n_estimators]"
   ]
  },
  {
   "cell_type": "code",
   "execution_count": 463,
   "id": "published-ballot",
   "metadata": {},
   "outputs": [
    {
     "data": {
      "text/plain": [
       "Text(0, 0.5, 'log_loss')"
      ]
     },
     "execution_count": 463,
     "metadata": {},
     "output_type": "execute_result"
    },
    {
     "data": {
      "image/png": "[encoded data removed]",
      "text/plain": [
       "<Figure size 432x288 with 1 Axes>"
      ]
     },
     "metadata": {},
     "output_type": "display_data"
    }
   ],
   "source": [
    "cv_br = pd.Series(cv_rmse_br , index = n_estimators)\n",
    "cv_br.plot(title = \"Validation BaggingClassifier\")\n",
    "plt.xlabel(\"n_estimator\")\n",
    "plt.ylabel(\"log_loss\")"
   ]
  },
  {
   "cell_type": "code",
   "execution_count": 12,
   "id": "packed-anthony",
   "metadata": {},
   "outputs": [],
   "source": [
    "clf = BaggingClassifier(LGBMClassifier(),n_estimators=300).fit(x_train, y_train)\n",
    "x_test['prediccion']=clf.predict_proba(x_test[features])[:,1]"
   ]
  },
  {
   "cell_type": "code",
   "execution_count": 13,
   "id": "funky-olive",
   "metadata": {},
   "outputs": [
    {
     "data": {
      "text/plain": [
       "0.21321337389477696"
      ]
     },
     "execution_count": 13,
     "metadata": {},
     "output_type": "execute_result"
    }
   ],
   "source": [
    "log_loss( x_test['real'].astype('float'),x_test['prediccion'].astype('float'))"
   ]
  },
  {
   "cell_type": "code",
   "execution_count": 14,
   "id": "flush-pride",
   "metadata": {},
   "outputs": [],
   "source": [
    "pred = clf.predict_proba(test[features])[:,1]"
   ]
  },
  {
   "cell_type": "code",
   "execution_count": 15,
   "id": "brave-notion",
   "metadata": {},
   "outputs": [],
   "source": [
    "test['target']=pred"
   ]
  },
  {
   "cell_type": "code",
   "execution_count": 16,
   "id": "tracked-ambassador",
   "metadata": {},
   "outputs": [
    {
     "data": {
      "text/html": [
       "<div>\n",
       "<style scoped>\n",
       "    .dataframe tbody tr th:only-of-type {\n",
       "        vertical-align: middle;\n",
       "    }\n",
       "\n",
       "    .dataframe tbody tr th {\n",
       "        vertical-align: top;\n",
       "    }\n",
       "\n",
       "    .dataframe thead th {\n",
       "        text-align: right;\n",
       "    }\n",
       "</style>\n",
       "<table border=\"1\" class=\"dataframe\">\n",
       "  <thead>\n",
       "    <tr style=\"text-align: right;\">\n",
       "      <th></th>\n",
       "      <th>Opportunity_ID</th>\n",
       "      <th>target</th>\n",
       "    </tr>\n",
       "  </thead>\n",
       "  <tbody>\n",
       "    <tr>\n",
       "      <th>0</th>\n",
       "      <td>10689</td>\n",
       "      <td>0.763575</td>\n",
       "    </tr>\n",
       "    <tr>\n",
       "      <th>1</th>\n",
       "      <td>10689</td>\n",
       "      <td>0.767447</td>\n",
       "    </tr>\n",
       "    <tr>\n",
       "      <th>2</th>\n",
       "      <td>10689</td>\n",
       "      <td>0.764047</td>\n",
       "    </tr>\n",
       "    <tr>\n",
       "      <th>3</th>\n",
       "      <td>10690</td>\n",
       "      <td>0.534493</td>\n",
       "    </tr>\n",
       "    <tr>\n",
       "      <th>4</th>\n",
       "      <td>10690</td>\n",
       "      <td>0.534026</td>\n",
       "    </tr>\n",
       "    <tr>\n",
       "      <th>...</th>\n",
       "      <td>...</td>\n",
       "      <td>...</td>\n",
       "    </tr>\n",
       "    <tr>\n",
       "      <th>2546</th>\n",
       "      <td>12364</td>\n",
       "      <td>0.972624</td>\n",
       "    </tr>\n",
       "    <tr>\n",
       "      <th>2547</th>\n",
       "      <td>12365</td>\n",
       "      <td>0.183222</td>\n",
       "    </tr>\n",
       "    <tr>\n",
       "      <th>2548</th>\n",
       "      <td>12366</td>\n",
       "      <td>0.136648</td>\n",
       "    </tr>\n",
       "    <tr>\n",
       "      <th>2549</th>\n",
       "      <td>12367</td>\n",
       "      <td>0.618568</td>\n",
       "    </tr>\n",
       "    <tr>\n",
       "      <th>2550</th>\n",
       "      <td>12368</td>\n",
       "      <td>0.081964</td>\n",
       "    </tr>\n",
       "  </tbody>\n",
       "</table>\n",
       "<p>2551 rows × 2 columns</p>\n",
       "</div>"
      ],
      "text/plain": [
       "      Opportunity_ID    target\n",
       "0              10689  0.763575\n",
       "1              10689  0.767447\n",
       "2              10689  0.764047\n",
       "3              10690  0.534493\n",
       "4              10690  0.534026\n",
       "...              ...       ...\n",
       "2546           12364  0.972624\n",
       "2547           12365  0.183222\n",
       "2548           12366  0.136648\n",
       "2549           12367  0.618568\n",
       "2550           12368  0.081964\n",
       "\n",
       "[2551 rows x 2 columns]"
      ]
     },
     "execution_count": 16,
     "metadata": {},
     "output_type": "execute_result"
    }
   ],
   "source": [
    "test[['Opportunity_ID', 'target']]"
   ]
  },
  {
   "cell_type": "code",
   "execution_count": 17,
   "id": "noble-discipline",
   "metadata": {},
   "outputs": [
    {
     "data": {
      "text/html": [
       "<div>\n",
       "<style scoped>\n",
       "    .dataframe tbody tr th:only-of-type {\n",
       "        vertical-align: middle;\n",
       "    }\n",
       "\n",
       "    .dataframe tbody tr th {\n",
       "        vertical-align: top;\n",
       "    }\n",
       "\n",
       "    .dataframe thead th {\n",
       "        text-align: right;\n",
       "    }\n",
       "</style>\n",
       "<table border=\"1\" class=\"dataframe\">\n",
       "  <thead>\n",
       "    <tr style=\"text-align: right;\">\n",
       "      <th></th>\n",
       "      <th>Opportunity_ID</th>\n",
       "      <th>target</th>\n",
       "    </tr>\n",
       "  </thead>\n",
       "  <tbody>\n",
       "    <tr>\n",
       "      <th>0</th>\n",
       "      <td>10689</td>\n",
       "      <td>0.765023</td>\n",
       "    </tr>\n",
       "    <tr>\n",
       "      <th>1</th>\n",
       "      <td>10690</td>\n",
       "      <td>0.535094</td>\n",
       "    </tr>\n",
       "    <tr>\n",
       "      <th>2</th>\n",
       "      <td>10691</td>\n",
       "      <td>0.810833</td>\n",
       "    </tr>\n",
       "    <tr>\n",
       "      <th>3</th>\n",
       "      <td>10692</td>\n",
       "      <td>0.849659</td>\n",
       "    </tr>\n",
       "    <tr>\n",
       "      <th>4</th>\n",
       "      <td>10693</td>\n",
       "      <td>0.969787</td>\n",
       "    </tr>\n",
       "    <tr>\n",
       "      <th>...</th>\n",
       "      <td>...</td>\n",
       "      <td>...</td>\n",
       "    </tr>\n",
       "    <tr>\n",
       "      <th>1562</th>\n",
       "      <td>12364</td>\n",
       "      <td>0.973182</td>\n",
       "    </tr>\n",
       "    <tr>\n",
       "      <th>1563</th>\n",
       "      <td>12365</td>\n",
       "      <td>0.183222</td>\n",
       "    </tr>\n",
       "    <tr>\n",
       "      <th>1564</th>\n",
       "      <td>12366</td>\n",
       "      <td>0.136648</td>\n",
       "    </tr>\n",
       "    <tr>\n",
       "      <th>1565</th>\n",
       "      <td>12367</td>\n",
       "      <td>0.618568</td>\n",
       "    </tr>\n",
       "    <tr>\n",
       "      <th>1566</th>\n",
       "      <td>12368</td>\n",
       "      <td>0.081964</td>\n",
       "    </tr>\n",
       "  </tbody>\n",
       "</table>\n",
       "<p>1567 rows × 2 columns</p>\n",
       "</div>"
      ],
      "text/plain": [
       "      Opportunity_ID    target\n",
       "0              10689  0.765023\n",
       "1              10690  0.535094\n",
       "2              10691  0.810833\n",
       "3              10692  0.849659\n",
       "4              10693  0.969787\n",
       "...              ...       ...\n",
       "1562           12364  0.973182\n",
       "1563           12365  0.183222\n",
       "1564           12366  0.136648\n",
       "1565           12367  0.618568\n",
       "1566           12368  0.081964\n",
       "\n",
       "[1567 rows x 2 columns]"
      ]
     },
     "execution_count": 17,
     "metadata": {},
     "output_type": "execute_result"
    }
   ],
   "source": [
    "test =test.groupby(['Opportunity_ID'], as_index=False)['target'].mean()[['Opportunity_ID', 'target']]\n",
    "test"
   ]
  },
  {
   "cell_type": "code",
   "execution_count": 18,
   "id": "arranged-hayes",
   "metadata": {},
   "outputs": [
    {
     "data": {
      "text/plain": [
       "0.5056879776867489"
      ]
     },
     "execution_count": 18,
     "metadata": {},
     "output_type": "execute_result"
    }
   ],
   "source": [
    "test['target'].mean()"
   ]
  },
  {
   "cell_type": "code",
   "execution_count": 19,
   "id": "figured-music",
   "metadata": {},
   "outputs": [],
   "source": [
    "test[['Opportunity_ID', 'target']].to_csv(\"subidas/bagging_LGBM_300_estimadores_1.csv\", index=False)"
   ]
  },
  {
   "cell_type": "code",
   "execution_count": null,
   "id": "careful-equity",
   "metadata": {},
   "outputs": [],
   "source": []
  }
 ],
 "metadata": {
  "kernelspec": {
   "display_name": "Python 3",
   "language": "python",
   "name": "python3"
  },
  "language_info": {
   "codemirror_mode": {
    "name": "ipython",
    "version": 3
   },
   "file_extension": ".py",
   "mimetype": "text/x-python",
   "name": "python",
   "nbconvert_exporter": "python",
   "pygments_lexer": "ipython3",
   "version": "3.9.1"
  }
 },
 "nbformat": 4,
 "nbformat_minor": 5
}
