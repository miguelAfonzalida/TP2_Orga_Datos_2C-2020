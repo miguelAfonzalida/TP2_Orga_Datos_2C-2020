{
 "cells": [
  {
   "cell_type": "code",
   "execution_count": 1,
   "id": "secondary-framing",
   "metadata": {},
   "outputs": [],
   "source": [
    "#%matplotlib inline\n",
    "import numpy as np\n",
    "import pandas as pd\n",
    "import seaborn as sns\n",
    "import matplotlib.pyplot as plt\n",
    "sns.set(style=\"whitegrid\")\n",
    "from sklearn.model_selection import cross_val_score\n",
    "import xgboost as xgb\n",
    "from sklearn.metrics import log_loss \n",
    "from sklearn.model_selection import train_test_split\n",
    "from sklearn.utils import shuffle\n",
    "from sklearn.model_selection import cross_val_score\n",
    "import lightgbm as lgb\n",
    "from lightgbm import LGBMClassifier\n",
    "from sklearn.metrics import accuracy_score\n",
    "from xgboost import XGBClassifier\n",
    "from sklearn.model_selection import train_test_split\n",
    "from sklearn.model_selection import RandomizedSearchCV,GridSearchCV\n",
    "import warnings\n",
    "warnings.simplefilter(action='ignore')"
   ]
  },
  {
   "cell_type": "code",
   "execution_count": 2,
   "id": "distributed-serial",
   "metadata": {},
   "outputs": [],
   "source": [
    "test = pd.read_csv('test_listo.csv')\n",
    "train = pd.read_csv('train_listo.csv')"
   ]
  },
  {
   "cell_type": "code",
   "execution_count": 3,
   "id": "lesser-broadcasting",
   "metadata": {},
   "outputs": [],
   "source": [
    " df = pd.concat([train,test])"
   ]
  },
  {
   "cell_type": "markdown",
   "id": "suspected-letter",
   "metadata": {},
   "source": [
    "* One Hot Encoding y Label Encoding"
   ]
  },
  {
   "cell_type": "code",
   "execution_count": 5,
   "id": "listed-acoustic",
   "metadata": {},
   "outputs": [],
   "source": [
    "from sklearn.preprocessing import OneHotEncoder \n",
    "from sklearn.preprocessing import LabelEncoder\n",
    "from sklearn.preprocessing import LabelBinarizer"
   ]
  },
  {
   "cell_type": "code",
   "execution_count": 6,
   "id": "resident-shoot",
   "metadata": {},
   "outputs": [],
   "source": [
    "def LabelEncord_categorical(df):\n",
    "    categorical_features = ['Region','Territory','Source','Billing_Country', 'Account_Name','Account_Owner',\\\n",
    "                            'Opportunity_Owner','Account_Type', 'Opportunity_Type', 'Quote_Type','Delivery_Quarter', \\\n",
    "                            'Delivery_Terms','Last_Modified_By',\\\n",
    "                            'Product_Family', 'Product_Name','ASP_Currency','Prod_Category_A', 'Hemisferio','Estacin']\n",
    "    for features in categorical_features:\n",
    "        le = LabelEncoder()\n",
    "        df[features] = le.fit_transform(df[features].astype(str))\n",
    "    return df\n",
    "\n",
    "def dummies(df):\n",
    "    categorical_features = []\n",
    "    for features in categorical_features:\n",
    "        dummies =  pd.get_dummies(df[features])\n",
    "        df = pd.concat([df, dummies],axis=1)\n",
    "    return df\n",
    "\n",
    "def pre_processing(df):\n",
    "    df = LabelEncord_categorical(df)\n",
    "    return df\n",
    "\n",
    "df = pre_processing(df)\n",
    "#train = pre_processing(train)\n",
    "#test = pre_processing(test)"
   ]
  },
  {
   "cell_type": "code",
   "execution_count": 7,
   "id": "realistic-secretary",
   "metadata": {},
   "outputs": [],
   "source": [
    "train =train[['ID']]\n",
    "train = pd.merge(train,df, on= 'ID', how = 'inner') \n",
    "test =test[['ID']]\n",
    "test = pd.merge(test,df, on= 'ID', how = 'inner') \n",
    "train.loc[train['Stage']=='Closed Won','Stage']=1\n",
    "train.loc[train['Stage']=='Closed Lost','Stage']=0\n",
    "train.Stage=train.Stage.astype('float')\n",
    "train.to_csv(\"train_label_enc.csv\", index=False)\n",
    "test.to_csv(\"test_label_enc.csv\", index=False)"
   ]
  },
  {
   "cell_type": "markdown",
   "id": "respective-lemon",
   "metadata": {},
   "source": [
    "* Target Encoding"
   ]
  },
  {
   "cell_type": "code",
   "execution_count": 220,
   "id": "premier-withdrawal",
   "metadata": {},
   "outputs": [],
   "source": [
    "df['Brand'] = df['Brand'].astype('category')\n",
    "df['Territory'] = df['Territory'].astype('category')\n",
    "df['Region'] = df['Region'].astype('category')\n",
    "df['Bureaucratic_Code'] = df['Bureaucratic_Code'].astype('category')\n",
    "df['Billing_Country'] = df['Billing_Country'].astype('category')\n",
    "df['Source'] = df['Source'].astype('category')\n",
    "df['Account_Name'] = df['Account_Name'].astype('category')\n",
    "df['Account_Owner'] = df['Account_Owner'].astype('category')\n",
    "df['Opportunity_Owner'] = df['Opportunity_Owner'].astype('category')\n",
    "df['Account_Type'] = df['Account_Type'].astype('category')\n",
    "df['Opportunity_Type'] = df['Opportunity_Type'].astype('category')\n",
    "df['Quote_Type'] = df['Quote_Type'].astype('category')\n",
    "df['Delivery_Quarter'] = df['Delivery_Quarter'].astype('category')\n",
    "df['Delivery_Terms'] = df['Delivery_Terms'].astype('category')\n",
    "df['Last_Modified_By'] = df['Last_Modified_By'].astype('category')\n",
    "df['Product_Family'] = df['Product_Family'].astype('category')\n",
    "df['Product_Name'] = df['Product_Name'].astype('category')\n",
    "df['ASP_Currency'] = df['ASP_Currency'].astype('category')\n",
    "df['Prod_Category_A'] = df['Prod_Category_A'].astype('category')\n",
    "df['Product_Category_B'] = df['Product_Category_B'].astype('category')\n",
    "df['Hemisferio'] = df['Hemisferio'].astype('category')\n",
    "df['Estacion'] = df['Estacion'].astype('category')\n",
    "df['Month'] = df['Month'].astype('category')"
   ]
  },
  {
   "cell_type": "code",
   "execution_count": 97,
   "id": "continent-tribe",
   "metadata": {},
   "outputs": [],
   "source": [
    "import category_encoders as ce\n",
    "cat_features = ['Territory','Account_Name',\\\n",
    "                            'Account_Type', 'Opportunity_Type', 'Quote_Type','Delivery_Quarter', \\\n",
    "                            'Delivery_Terms','Last_Modified_By']\n",
    "target_enc = ce.TargetEncoder(cols=cat_features)\n",
    "target_enc.fit(train[cat_features], train['Stage'])\n",
    "\n",
    "#train = train.join(target_enc.transform(train[cat_features]).add_suffix('_t'))\n",
    "#test = test.join(target_enc.transform(test[cat_features]).add_suffix('_t'))\n",
    "df = df.join(target_enc.transform(df[cat_features]).add_suffix('_t'))"
   ]
  },
  {
   "cell_type": "code",
   "execution_count": null,
   "id": "circular-honduras",
   "metadata": {},
   "outputs": [],
   "source": [
    "train =train[['ID']]\n",
    "train = pd.merge(train,df, on= 'ID', how = 'inner') \n",
    "test =test[['ID']]\n",
    "test = pd.merge(test,df, on= 'ID', how = 'inner') \n",
    "train.loc[train['Stage']=='Closed Won','Stage']=1\n",
    "train.loc[train['Stage']=='Closed Lost','Stage']=0\n",
    "train.Stage=train.Stage.astype('float')\n",
    "train.to_csv(\"train_Target_enc.csv\", index=False)\n",
    "test.to_csv(\"test_Target_enc.csv\", index=False)"
   ]
  },
  {
   "cell_type": "markdown",
   "id": "metallic-messenger",
   "metadata": {},
   "source": [
    "* CatBoost Encoding"
   ]
  },
  {
   "cell_type": "code",
   "execution_count": 221,
   "id": "crude-mozambique",
   "metadata": {},
   "outputs": [],
   "source": [
    "cat_features = ['Territory','Account_Owner','Account_Name',\\\n",
    "                            'Opportunity_Owner','Account_Type', 'Opportunity_Type', 'Quote_Type','Delivery_Quarter', \\\n",
    "                            'Delivery_Terms','Last_Modified_By',\\\n",
    "                            'Product_Family']\n",
    "target_enc = ce.CatBoostEncoder(cols=cat_features)\n",
    "target_enc.fit(train[cat_features], train['Stage'])\n",
    "\n",
    "#train = train.join(target_enc.transform(train[cat_features]).add_suffix('_cb'))\n",
    "#test = test.join(target_enc.transform(test[cat_features]).add_suffix('_cb'))\n",
    "df = df.join(target_enc.transform(df[cat_features]).add_suffix('_cb'))"
   ]
  },
  {
   "cell_type": "code",
   "execution_count": 122,
   "id": "hollow-scott",
   "metadata": {},
   "outputs": [],
   "source": [
    "train =train[['ID']]\n",
    "train = pd.merge(train,df, on= 'ID', how = 'inner') \n",
    "test =test[['ID']]\n",
    "test = pd.merge(test,df, on= 'ID', how = 'inner') \n",
    "train.loc[train['Stage']=='Closed Won','Stage']=1\n",
    "train.loc[train['Stage']=='Closed Lost','Stage']=0\n",
    "train.Stage=train.Stage.astype('float')\n",
    "train.to_csv(\"train_CatBoost_enc.csv\", index=False)\n",
    "test.to_csv(\"test_CatBoost_enc.csv\", index=False)"
   ]
  },
  {
   "cell_type": "code",
   "execution_count": 123,
   "id": "floating-peter",
   "metadata": {},
   "outputs": [],
   "source": []
  },
  {
   "cell_type": "code",
   "execution_count": null,
   "id": "bigger-campaign",
   "metadata": {},
   "outputs": [],
   "source": []
  }
 ],
 "metadata": {
  "kernelspec": {
   "display_name": "Python 3",
   "language": "python",
   "name": "python3"
  },
  "language_info": {
   "codemirror_mode": {
    "name": "ipython",
    "version": 3
   },
   "file_extension": ".py",
   "mimetype": "text/x-python",
   "name": "python",
   "nbconvert_exporter": "python",
   "pygments_lexer": "ipython3",
   "version": "3.9.1"
  }
 },
 "nbformat": 4,
 "nbformat_minor": 5
}
