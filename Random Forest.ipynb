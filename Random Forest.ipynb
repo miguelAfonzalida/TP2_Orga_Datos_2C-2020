{
 "cells": [
  {
   "cell_type": "code",
   "execution_count": 19,
   "id": "associate-answer",
   "metadata": {},
   "outputs": [],
   "source": [
    "#%matplotlib inline\n",
    "import numpy as np\n",
    "import pandas as pd\n",
    "import seaborn as sns\n",
    "import matplotlib.pyplot as plt\n",
    "sns.set(style=\"whitegrid\")\n",
    "from sklearn.model_selection import cross_val_score\n",
    "import xgboost as xgb\n",
    "from sklearn.metrics import log_loss \n",
    "from sklearn.model_selection import train_test_split\n",
    "from sklearn.utils import shuffle\n",
    "from sklearn.model_selection import cross_val_score\n",
    "import lightgbm as lgb\n",
    "from lightgbm import LGBMClassifier\n",
    "from sklearn.metrics import accuracy_score\n",
    "from xgboost import XGBClassifier\n",
    "from sklearn.model_selection import train_test_split\n",
    "from sklearn.model_selection import RandomizedSearchCV,GridSearchCV\n",
    "import warnings\n",
    "warnings.simplefilter(action='ignore')\n",
    "from sklearn.ensemble import RandomForestClassifier"
   ]
  },
  {
   "cell_type": "code",
   "execution_count": 20,
   "id": "worldwide-bidder",
   "metadata": {},
   "outputs": [],
   "source": [
    "test = pd.read_csv('test_label_enc.csv')\n",
    "train = pd.read_csv('train_label_enc.csv')\n",
    "train.fillna(0,inplace=True)\n",
    "test.fillna(0,inplace=True)"
   ]
  },
  {
   "cell_type": "code",
   "execution_count": 21,
   "id": "welsh-bonus",
   "metadata": {},
   "outputs": [
    {
     "data": {
      "text/plain": [
       "Index(['ID', 'Opportunity_ID', 'Cantidad_de_Items_Asociados', 'Region',\n",
       "       'Territory', 'PricingDelivery_Terms_Quote_Appr',\n",
       "       'PricingDelivery_Terms_Approved', 'Bureaucratic_Code_0_Approval',\n",
       "       'Bureaucratic_Code_0_Approved', 'Submitted_for_Approval',\n",
       "       ...\n",
       "       'Source_7', 'Source_9', 'year_entrega', 'mes_entrega',\n",
       "       'tiempo_plan_end_star', 'tiempo_entrega_por_items',\n",
       "       'tiempo_entrega_max', 'tiempo_entrega_min', 'tiempo_entrega_mean',\n",
       "       'tiempo_entrega_std'],\n",
       "      dtype='object', length=2804)"
      ]
     },
     "execution_count": 21,
     "metadata": {},
     "output_type": "execute_result"
    }
   ],
   "source": [
    "train.columns"
   ]
  },
  {
   "cell_type": "code",
   "execution_count": 22,
   "id": "computational-speaker",
   "metadata": {},
   "outputs": [
    {
     "data": {
      "text/plain": [
       "1    9835\n",
       "0    7009\n",
       "Name: PricingDelivery_Terms_Approved, dtype: int64"
      ]
     },
     "execution_count": 22,
     "metadata": {},
     "output_type": "execute_result"
    }
   ],
   "source": [
    "train.PricingDelivery_Terms_Approved.value_counts()"
   ]
  },
  {
   "cell_type": "code",
   "execution_count": 23,
   "id": "clean-packet",
   "metadata": {},
   "outputs": [],
   "source": [
    "# Aca saco las columnas que no quiero que las tome mi algoritmo.\n",
    "features = list(set(train.columns) - set(['ID','Stage','Sales_Contract_No','contrato','Opportunity_ID','Opportunity_Created_Date','Account_Created_Date','Opportunity_Name',\\\n",
    "                                        'Price', 'Currency', 'ASP', 'ASP_converted_Currency', 'ASP_(converted)',\\\n",
    "                                        'Planned_Delivery_Start_Date','Size', 'Planned_Delivery_End_Date', 'Month',\\\n",
    "                                         'Delivery_Year', 'Actual_Delivery_Date','Product_Type','Product_Category_B',\\\n",
    "                                        'Total_Amount_Currency', 'Total_Amount','Last_Activity',\\\n",
    "                                        'Quote_Expiry_Date', 'Last_Modified_Date',\\\n",
    "                                        'Total_Taxable_Amount_Currency', 'Total_Taxable_Amount','Account_Created_Date'\\\n",
    "                                          ,'Total_moneda_local','ASP_Currency','Last_Modified_By','Brand','Bureaucratic_Code',\\\n",
    "                                         'tiempo_creacion_ulti_mod','ASP_converted','Product_Name','Opportunity_Owner',\\\n",
    "                                          'Account_Owner','Product_Family','Account_Name','Estacion_entrega']))\n",
    "#features"
   ]
  },
  {
   "cell_type": "code",
   "execution_count": 24,
   "id": "offshore-importance",
   "metadata": {},
   "outputs": [],
   "source": [
    "train_pos= train.loc[train['Stage']==1,:].sample(7315)\n",
    "train_neg = train.loc[train['Stage']==0,:].sample(7315)\n",
    "train=pd.concat([train_pos,train_neg]).drop_duplicates(keep=False)\n",
    "train= shuffle(train)"
   ]
  },
  {
   "cell_type": "code",
   "execution_count": 25,
   "id": "detected-mexican",
   "metadata": {},
   "outputs": [],
   "source": [
    "X = train[features]\n",
    "Y = train['Stage']\n",
    "\n",
    "x_train, x_test, y_train, y_test = train_test_split(X, Y, test_size=0.2)"
   ]
  },
  {
   "cell_type": "code",
   "execution_count": 26,
   "id": "owned-mainstream",
   "metadata": {},
   "outputs": [],
   "source": [
    "clf = RandomForestClassifier()"
   ]
  },
  {
   "cell_type": "code",
   "execution_count": 27,
   "id": "three-advancement",
   "metadata": {},
   "outputs": [],
   "source": [
    "#clf = RandomForestClassifier(n_estimators=300, criterion='gini',min_samples_split=2, max_features= 0.7,max_depth= 15,\n",
    "#                               random_state=0, n_jobs=-1, verbose = 1)"
   ]
  },
  {
   "cell_type": "code",
   "execution_count": 28,
   "id": "leading-alexandria",
   "metadata": {},
   "outputs": [
    {
     "data": {
      "text/plain": [
       "RandomForestClassifier()"
      ]
     },
     "execution_count": 28,
     "metadata": {},
     "output_type": "execute_result"
    }
   ],
   "source": [
    "clf.fit(x_train[features], y_train)"
   ]
  },
  {
   "cell_type": "code",
   "execution_count": 29,
   "id": "accessory-access",
   "metadata": {},
   "outputs": [
    {
     "data": {
      "text/plain": [
       "array([-0.23205198, -0.23470617, -0.22087711])"
      ]
     },
     "execution_count": 29,
     "metadata": {},
     "output_type": "execute_result"
    }
   ],
   "source": [
    "scores = cross_val_score(clf, train[features], train['Stage'], cv=3,scoring= 'neg_log_loss')\n",
    "scores"
   ]
  },
  {
   "cell_type": "code",
   "execution_count": 30,
   "id": "satisfactory-lloyd",
   "metadata": {},
   "outputs": [
    {
     "data": {
      "text/plain": [
       "0.22921175601150956"
      ]
     },
     "execution_count": 30,
     "metadata": {},
     "output_type": "execute_result"
    }
   ],
   "source": [
    "abs(scores.mean())"
   ]
  },
  {
   "cell_type": "code",
   "execution_count": null,
   "id": "auburn-transformation",
   "metadata": {},
   "outputs": [],
   "source": []
  }
 ],
 "metadata": {
  "kernelspec": {
   "display_name": "Python 3",
   "language": "python",
   "name": "python3"
  },
  "language_info": {
   "codemirror_mode": {
    "name": "ipython",
    "version": 3
   },
   "file_extension": ".py",
   "mimetype": "text/x-python",
   "name": "python",
   "nbconvert_exporter": "python",
   "pygments_lexer": "ipython3",
   "version": "3.9.1"
  }
 },
 "nbformat": 4,
 "nbformat_minor": 5
}
